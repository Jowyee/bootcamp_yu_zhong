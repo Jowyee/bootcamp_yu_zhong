{
 "cells": [
  {
   "cell_type": "code",
   "execution_count": null,
   "id": "1b5cc828-10f5-4dc5-90a5-6c0505c4beb4",
   "metadata": {},
   "outputs": [],
   "source": [
    "### Environment & Config Check"
   ]
  },
  {
   "cell_type": "code",
   "execution_count": null,
   "id": "ef3f12b3-4735-4046-a59f-c4c1ed59d373",
   "metadata": {},
   "outputs": [],
   "source": [
    "load_dotenv()\n",
    "print if API_KEY exists\n",
    "import numpy and run a small array op"
   ]
  }
 ],
 "metadata": {
  "kernelspec": {
   "display_name": "Python 3 (ipykernel)",
   "language": "python",
   "name": "python3"
  },
  "language_info": {
   "codemirror_mode": {
    "name": "ipython",
    "version": 3
   },
   "file_extension": ".py",
   "mimetype": "text/x-python",
   "name": "python",
   "nbconvert_exporter": "python",
   "pygments_lexer": "ipython3",
   "version": "3.11.13"
  }
 },
 "nbformat": 4,
 "nbformat_minor": 5
}
