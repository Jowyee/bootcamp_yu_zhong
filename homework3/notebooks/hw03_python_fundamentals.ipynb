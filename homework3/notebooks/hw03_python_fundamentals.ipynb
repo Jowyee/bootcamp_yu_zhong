{
 "cells": [
  {
   "cell_type": "code",
   "execution_count": 2,
   "id": "29e754a4",
   "metadata": {},
   "outputs": [
    {
     "name": "stdout",
     "output_type": "stream",
     "text": [
      "=== Basic Data Information ===\n",
      "<class 'pandas.core.frame.DataFrame'>\n",
      "RangeIndex: 10 entries, 0 to 9\n",
      "Data columns (total 3 columns):\n",
      " #   Column    Non-Null Count  Dtype \n",
      "---  ------    --------------  ----- \n",
      " 0   category  10 non-null     object\n",
      " 1   value     10 non-null     int64 \n",
      " 2   date      10 non-null     object\n",
      "dtypes: int64(1), object(2)\n",
      "memory usage: 368.0+ bytes\n",
      "\n",
      "=== Data Preview ===\n",
      "  category  value        date\n",
      "0        A     10  2025-08-01\n",
      "1        B     15  2025-08-02\n",
      "2        A     12  2025-08-03\n",
      "3        B     18  2025-08-04\n",
      "4        C     25  2025-08-05\n",
      "\n",
      "=== Numeric Columns Summary Statistics ===\n",
      "           value\n",
      "count  10.000000\n",
      "mean   17.600000\n",
      "std     7.381659\n",
      "min    10.000000\n",
      "25%    12.250000\n",
      "50%    14.500000\n",
      "75%    23.250000\n",
      "max    30.000000\n",
      "\n",
      "=== Groupby Aggregation Result ===\n",
      "category\n",
      "A    11.500000\n",
      "B    15.666667\n",
      "C    27.666667\n",
      "Name: value, dtype: float64\n"
     ]
    }
   ],
   "source": [
    "import pandas as pd\n",
    "\n",
    "file_path = \"../data/starter_data.csv\"  \n",
    "try:\n",
    "    df = pd.read_csv(file_path) \n",
    "    \n",
    "    print(\"=== Basic Data Information ===\")\n",
    "    df.info()\n",
    "\n",
    "    print(\"\\n=== Data Preview ===\")\n",
    "    print(df.head())  \n",
    "\n",
    "except FileNotFoundError:\n",
    "    print(f\"Error: File {file_path} not found. Please check if the path is correct.\")\n",
    "except Exception as e:\n",
    "    print(f\"An error occurred while loading data: {e}\")\n",
    "\n",
    "numeric_summary = df.describe()\n",
    "print(\"\\n=== Numeric Columns Summary Statistics ===\")\n",
    "print(numeric_summary)\n",
    "\n",
    "grouped_result = df.groupby('category')['value'].mean()\n",
    "print(\"\\n=== Groupby Aggregation Result ===\")\n",
    "print(grouped_result)\n",
    "\n",
    "import matplotlib.pyplot as plt\n",
    "\n",
    "grouped_result = df.groupby(\"category\")[\"value\"].mean()\n",
    "grouped_result.plot(kind=\"bar\", title=\"Mean Value by Category\")\n",
    "plt.xlabel(\"Category\")\n",
    "plt.ylabel(\"Mean Value\")\n",
    "plt.savefig(\"../data/processed/category_mean_plot.png\")  \n",
    "plt.close()  # 关闭画布，避免占用内存"
   ]
  }
 ],
 "metadata": {
  "kernelspec": {
   "display_name": "bootcamp_env",
   "language": "python",
   "name": "python3"
  },
  "language_info": {
   "codemirror_mode": {
    "name": "ipython",
    "version": 3
   },
   "file_extension": ".py",
   "mimetype": "text/x-python",
   "name": "python",
   "nbconvert_exporter": "python",
   "pygments_lexer": "ipython3",
   "version": "3.10.18"
  }
 },
 "nbformat": 4,
 "nbformat_minor": 5
}
