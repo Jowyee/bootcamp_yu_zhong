import pandas as pd
import os
from dotenv import load_dotenv

load_dotenv()

RAW_PATH = os.getenv("RAW_PATH", "../data/raw/countries_gdp.csv")
PROCESSED_PATH = os.getenv("PROCESSED_PATH", "../data/processed/countries_gdp_clean.csv")

df = pd.read_csv(RAW_PATH)

df.columns = df.columns.str.strip().str.lower().str.replace(" ", "_")
df = df.dropna()

os.makedirs(os.path.dirname(PROCESSED_PATH), exist_ok=True)
df.to_csv(PROCESSED_PATH, index=False)

print(f"Processed data saved to {PROCESSED_PATH}")
