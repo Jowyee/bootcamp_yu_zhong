# --- Python basics ---
numbers = [1, 2, 3, 4, 5]
squared = [x**2 for x in numbers]
print("Squared numbers:", squared)

# --- NumPy example ---
import numpy as np
arr = np.array([1, 2, 3, 4, 5])
print("Mean:", arr.mean())
print("Standard Deviation:", arr.std())

# --- Pandas example ---
import pandas as pd

# create a simple dataframe
data = {
    "name": ["Alice", "Bob", "Charlie", "David"],
    "age": [25, 30, 35, 40],
    "city": ["NY", "SF", "LA", "CHI"]
}
df = pd.DataFrame(data)

print("\nOriginal DataFrame:")
print(df)

print("\nPeople older than 30:")
print(df[df["age"] > 30])

print("\nAverage age grouped by city:")
print(df.groupby("city")["age"].mean())
