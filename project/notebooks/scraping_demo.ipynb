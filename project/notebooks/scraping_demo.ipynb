import pandas as pd

url = "https://en.wikipedia.org/wiki/List_of_countries_by_GDP_(nominal)"
tables = pd.read_html(url)

gdp_df = tables[2]
print("Preview of scraped data:")
print(gdp_df.head())

output_path = "../data/raw/countries_gdp.csv"
gdp_df.to_csv(output_path, index=False)
print(f"Data saved to {output_path}")
